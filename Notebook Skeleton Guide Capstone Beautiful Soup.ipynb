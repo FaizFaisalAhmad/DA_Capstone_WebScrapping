{
 "cells": [
  {
   "cell_type": "markdown",
   "metadata": {},
   "source": [
    "# Capstone Webscrapping using BeautifulSoup\n",
    "\n",
    "This notebook contains guidances & tasks on the data processing for the application\n",
    "\n",
    "## background\n",
    "\n",
    "In this project we are trying to scrap data **15 pages** from the Kalibrr job portal website. Kalibrr is a company that provides a platform for worker recruitment\n",
    "\n",
    "There are 4 data that we collect, namely:\n",
    "\n",
    "1. job title\n",
    "2. work location\n",
    "3. date of work posted and dealine submit application\n",
    "4. companies\n",
    "\n",
    "from this data we will make visualization data related to the **distribution of the number of jobs in a location**\n",
    "\n"
   ]
  },
  {
   "cell_type": "markdown",
   "metadata": {},
   "source": [
    "## Prepare The Environtment"
   ]
  },
  {
   "cell_type": "code",
   "execution_count": 269,
   "metadata": {
    "ExecuteTime": {
     "end_time": "2020-01-13T05:12:23.275508Z",
     "start_time": "2020-01-13T05:12:20.009898Z"
    }
   },
   "outputs": [],
   "source": [
    "# Mempersiapkan environtment\n",
    "import requests\n",
    "import datetime as dt\n",
    "import pandas as pd\n",
    "import numpy as np\n",
    "import warnings\n",
    "import re\n",
    "warnings.filterwarnings(\"ignore\")\n",
    "\n",
    "from pandas.tseries.offsets import Day\n",
    "from bs4 import BeautifulSoup\n",
    "import requests\n",
    "\n",
    "\n"
   ]
  },
  {
   "cell_type": "markdown",
   "metadata": {},
   "source": [
    "## Requesting the Data and Creating a BeautifulSoup\n",
    "\n",
    "Let's begin with requesting the web from the site with `get` method."
   ]
  },
  {
   "cell_type": "code",
   "execution_count": null,
   "metadata": {},
   "outputs": [],
   "source": [
    "url_get = requests.get('https://www.kalibrr.id/id-ID/job-board/te/data/'+str(page))"
   ]
  },
  {
   "cell_type": "markdown",
   "metadata": {},
   "source": [
    "To visualize what exactly you get from the `request.get`, we can use .content so ee what we exactly get, in here i slice it so it won't make our screen full of the html we get from the page. You can delete the slicing if you want to see what we fully get."
   ]
  },
  {
   "cell_type": "code",
   "execution_count": 63,
   "metadata": {
    "ExecuteTime": {
     "end_time": "2020-01-13T05:12:23.290648Z",
     "start_time": "2020-01-13T05:12:23.277650Z"
    },
    "scrolled": true
   },
   "outputs": [
    {
     "data": {
      "text/plain": [
       "b'!DOCTYPE html><html lang=\"id-ID\"><head><meta name=\"viewport\" content=\"width=device-width\"/><meta charSet=\"utf-8\"/><script type=\"application/ld+json\">{\\n    \"@context\": \"https://schema.org\",\\n    \"@type\": \"WebSite\",\\n    \"url\": \"https://www.kalibrr.com\",\\n    \"potentialAction\": [\\n      {\\n        \"@type\": \"SearchAction\",\\n        \"target\": \"https://www.kalibrr.com/job-board/te/={search_term_string}\",\\n        \"query-input\": \"required name=search_term_string\"\\n      }\\n     ]\\n  }</script><meta property=\"o'"
      ]
     },
     "execution_count": 63,
     "metadata": {},
     "output_type": "execute_result"
    }
   ],
   "source": [
    "url_get.content[1:500]"
   ]
  },
  {
   "cell_type": "markdown",
   "metadata": {},
   "source": [
    "As we can see we get a very unstructured and complex html, which actually contains the codes needed to show the webpages on your web browser. But we as human still confused what and where we can use that piece of code, so here where we use the beautifulsoup. Beautiful soup class will result a beautifulsoup object. Beautiful Soup transforms a complex HTML document into a complex tree of Python objects. \n",
    "\n",
    "Let's make Beautiful soup object and feel free to explore the object here."
   ]
  },
  {
   "cell_type": "code",
   "execution_count": 71,
   "metadata": {
    "ExecuteTime": {
     "end_time": "2020-01-13T05:12:23.808122Z",
     "start_time": "2020-01-13T05:12:23.292610Z"
    }
   },
   "outputs": [],
   "source": [
    "soup = BeautifulSoup(url_get.content,\"html.parser\")\n",
    "\n",
    "\n"
   ]
  },
  {
   "cell_type": "markdown",
   "metadata": {},
   "source": [
    "## Finding the right key to scrap the data & Extracting the right information"
   ]
  },
  {
   "cell_type": "markdown",
   "metadata": {},
   "source": [
    "Find the key and put the key into the `.find()` Put all the exploring the right key at this cell. (please change this markdown with your explanation)"
   ]
  },
  {
   "cell_type": "code",
   "execution_count": 72,
   "metadata": {
    "ExecuteTime": {
     "end_time": "2020-01-13T05:12:23.878904Z",
     "start_time": "2020-01-13T05:12:23.854974Z"
    }
   },
   "outputs": [],
   "source": [
    " table = soup.find('div', attrs={'class':'k-border-b k-border-t k-border-tertiary-ghost-color md:k-border md:k-overflow-hidden md:k-rounded-lg'})\n"
   ]
  },
  {
   "cell_type": "code",
   "execution_count": 51,
   "metadata": {
    "scrolled": true
   },
   "outputs": [
    {
     "data": {
      "text/plain": [
       "'.Net Developer'"
      ]
     },
     "execution_count": 51,
     "metadata": {},
     "output_type": "execute_result"
    }
   ],
   "source": [
    "## job title\n",
    "table.find_all('div', attrs={'class':'k-col-start-3 k-row-start-1'})[:5]\n",
    "table.find_all('h2', attrs={'k-text-xl k-font-medium'})[:5]\n",
    "table.find_all('a', attrs={'class':'k-text-primary-color'})[0].text\n"
   ]
  },
  {
   "cell_type": "code",
   "execution_count": 38,
   "metadata": {},
   "outputs": [
    {
     "data": {
      "text/plain": [
       "'Tangerang Selatan, Indonesia'"
      ]
     },
     "execution_count": 38,
     "metadata": {},
     "output_type": "execute_result"
    }
   ],
   "source": [
    "##location\n",
    "\n",
    "table.find_all('a', attrs={'class':'k-text-subdued k-block'})[0].text "
   ]
  },
  {
   "cell_type": "code",
   "execution_count": 41,
   "metadata": {
    "scrolled": true
   },
   "outputs": [
    {
     "data": {
      "text/plain": [
       "'PT Adicipta Inovasi Teknologi'"
      ]
     },
     "execution_count": 41,
     "metadata": {},
     "output_type": "execute_result"
    }
   ],
   "source": [
    "##perusahaan\n",
    "table.find_all('span', attrs={'class':'k-inline-flex k-items-center k-mb-1'})[1].text \n"
   ]
  },
  {
   "cell_type": "code",
   "execution_count": 42,
   "metadata": {},
   "outputs": [
    {
     "data": {
      "text/plain": [
       "'Posted 3 days ago • Apply before 19 May'"
      ]
     },
     "execution_count": 42,
     "metadata": {},
     "output_type": "execute_result"
    }
   ],
   "source": [
    "#tanggal post\n",
    "\n",
    "table.find_all('span', attrs={'class':'k-block k-mb-1'})[0].text "
   ]
  },
  {
   "cell_type": "markdown",
   "metadata": {},
   "source": [
    "Finding row length."
   ]
  },
  {
   "cell_type": "code",
   "execution_count": 66,
   "metadata": {},
   "outputs": [
    {
     "data": {
      "text/plain": [
       "15"
      ]
     },
     "execution_count": 66,
     "metadata": {},
     "output_type": "execute_result"
    }
   ],
   "source": [
    "row = table.find_all('a', attrs={'class':'k-text-primary-color'})\n",
    "row_length = len(row)\n",
    "row_length"
   ]
  },
  {
   "cell_type": "markdown",
   "metadata": {},
   "source": [
    "Do the scrapping process here (please change this markdown with your explanation)"
   ]
  },
  {
   "cell_type": "code",
   "execution_count": 270,
   "metadata": {
    "ExecuteTime": {
     "end_time": "2020-01-13T05:12:24.008256Z",
     "start_time": "2020-01-13T05:12:23.980358Z"
    }
   },
   "outputs": [],
   "source": [
    "temp = [] #initiating a tuple\n",
    "\n",
    "## using for statement for looping to get data from 1 to 15 pages in kalibrr\n",
    "for page in range(1, 15):\n",
    "    i=0\n",
    "    # requesting data from kalibrr\n",
    "    url_get = requests.get('https://www.kalibrr.id/id-ID/job-board/te/data/'+str(page))\n",
    "    soup = BeautifulSoup(url_get.content,\"html.parser\")\n",
    "    table = soup.find('div', attrs={'class':'k-border-b k-border-t k-border-tertiary-ghost-color md:k-border md:k-overflow-hidden md:k-rounded-lg'})\n",
    "    \n",
    "    # find length total data\n",
    "    row = table.find_all('a', attrs={'class':'k-text-primary-color'})\n",
    "    row_length = len(row)\n",
    "    \n",
    "    for i in range(0, row_length):\n",
    "    \n",
    "        #Get Job_title\n",
    "        job_title=table.find_all('a', attrs={'class':'k-text-primary-color'})[i].text\n",
    "        job_title = job_title.strip() #remove blank space\n",
    "        \n",
    "        #get Location\n",
    "        location= table.find_all('a', attrs={'class':'k-text-subdued k-block'})[i].text\n",
    "        location = location.strip() #remove blank space\n",
    "        \n",
    "        #get Company\n",
    "        Company = table.find_all('span', attrs={'class':'k-inline-flex k-items-center k-mb-1'})[i].text \n",
    "        Company = Company.strip() #remove blank space      \n",
    "        \n",
    "        #Period\n",
    "        Period =table.find_all('span', attrs={'class':'k-block k-mb-1'})[i].text \n",
    "        Period = Period.strip() #remove blank space\n",
    "    \n",
    "        temp.append((Company,job_title,location,Period)) "
   ]
  },
  {
   "cell_type": "markdown",
   "metadata": {},
   "source": [
    "## Creating data frame & Data wrangling"
   ]
  },
  {
   "cell_type": "markdown",
   "metadata": {},
   "source": [
    "Put the array into dataframe"
   ]
  },
  {
   "cell_type": "code",
   "execution_count": 272,
   "metadata": {
    "ExecuteTime": {
     "end_time": "2020-01-13T05:12:41.517372Z",
     "start_time": "2020-01-13T05:12:29.130015Z"
    },
    "scrolled": true
   },
   "outputs": [],
   "source": [
    "#Create dataframe df \n",
    "\n",
    "df = pd.DataFrame(temp,columns=('Company','Job Title','location','period'))\n",
    "\n",
    "#save RAW data to CSV\n",
    "df.to_csv('capstone_raw_data.csv',index=False)\n",
    "\n"
   ]
  },
  {
   "cell_type": "markdown",
   "metadata": {},
   "source": [
    "### Process WRANGLING DATA\n",
    "\n",
    "Do the data cleaning here (please change this markdown with your explanation of what you do for data wrangling)"
   ]
  },
  {
   "cell_type": "code",
   "execution_count": 273,
   "metadata": {},
   "outputs": [],
   "source": [
    "\n",
    "\n",
    "# seperate string \",indonesia\"\n",
    "df['location'] = df['location'].str.split(',').str[0]\n",
    "\n",
    "# City standardization\n",
    "df['location General'] = df['location']\n",
    "\n",
    "df['location General'] = df['location General'].str.replace('Kota Jakarta Barat','Jakarta')\n",
    "df['location General'] = df['location General'].str.replace('Jakarta Selatan','Jakarta')\n",
    "df['location General'] = df['location General'].str.replace('Tangerang Selatan','Tangerang')\n",
    "df['location General'] = df['location General'].str.replace('Jakarta Pusat','Jakarta')\n",
    "df['location General'] = df['location General'].str.replace('Central Jakarta City','Jakarta')\n",
    "df['location General'] = df['location General'].str.replace('Jakarta Utara','Jakarta')\n",
    "df['location General'] = df['location General'].str.replace('Jakarta Barat','Jakarta')\n",
    "df['location General'] = df['location General'].str.replace('Kota Jakarta Pusat','Jakarta')\n",
    "df['location General'] = df['location General'].str.replace('Bandung Kota','Bandung')\n",
    "df['location General'] = df['location General'].str.replace('Bandung Kabupaten','Bandung')\n",
    "df['location General'] = df['location General'].str.replace('Jakarta Timur','Jakarta')\n",
    "df['location General'] = df['location General'].str.replace('Kota Jakarta Selatan','Jakarta')\n",
    "df['location General'] = df['location General'].str.replace('Tangerang Selatan','Tangerang')\n",
    "df['location General'] = df['location General'].str.replace('Tangerang Kota','Tangerang')\n",
    "df['location General'] = df['location General'].str.replace('Kota Central Jakarta','Jakarta')\n",
    "df['location General'] = df['location General'].str.replace('Kota South Jakarta','Jakarta')\n",
    "df['location General'] = df['location General'].str.replace('South Tangerang','Tangerang')\n",
    "df['location General'] = df['location General'].str.replace('West Jakarta','Jakarta')\n",
    "df['location General'] = df['location General'].str.replace('Central Jakarta','Jakarta')\n",
    "df['location General'] = df['location General'].str.replace('North Jakarta','Jakarta')\n",
    "df['location General'] = df['location General'].str.replace('South Jakarta','Jakarta')\n",
    "df['location General'] = df['location General'].str.replace('East Jakarta','Jakarta')\n",
    "df['location General'] = df['location General'].str.replace('Kota Jakarta','Jakarta')\n",
    "\n",
    "# Jakarta City standardization\n",
    "df['location'] = df['location'].str.replace('Kota Jakarta Barat','Jakarta Barat')\n",
    "df['location'] = df['location'].str.replace('Jakarta Selatan','Jakarta Selatan')\n",
    "df['location'] = df['location'].str.replace('Tangerang Selatan','Tangerang Selatan')\n",
    "df['location'] = df['location'].str.replace('Jakarta Pusat','Jakarta Pusat')\n",
    "df['location'] = df['location'].str.replace('Central Jakarta City','Jakarta Pusat')\n",
    "df['location'] = df['location'].str.replace('Jakarta Utara','Jakarta Utara')\n",
    "df['location'] = df['location'].str.replace('Jakarta Barat','Jakarta Barat')\n",
    "df['location'] = df['location'].str.replace('Kota Jakarta Pusat','Jakarta Pusat')\n",
    "df['location'] = df['location'].str.replace('Bandung Kota','Bandung')\n",
    "df['location'] = df['location'].str.replace('Bandung Kabupaten','Bandung')\n",
    "df['location'] = df['location'].str.replace('Jakarta Timur','Jakarta Timur')\n",
    "df['location'] = df['location'].str.replace('Kota Jakarta Selatan','Jakarta Selatan')\n",
    "df['location'] = df['location'].str.replace('Tangerang Selatan','Tangerang')\n",
    "df['location'] = df['location'].str.replace('Tangerang Kota','Tangerang')\n",
    "df['location'] = df['location'].str.replace('Kota Central Jakarta','Jakarta Pusat')\n",
    "df['location'] = df['location'].str.replace('Kota South Jakarta','Jakarta Selatan')\n",
    "df['location'] = df['location'].str.replace('South Tangerang','Tangerang')\n",
    "df['location'] = df['location'].str.replace('West Jakarta','Jakarta Barat')\n",
    "df['location'] = df['location'].str.replace('Central Jakarta','Jakarta Pusat')\n",
    "df['location'] = df['location'].str.replace('North Jakarta','Jakarta Utara')\n",
    "df['location'] = df['location'].str.replace('South Jakarta','Jakarta Selatan')\n",
    "df['location'] = df['location'].str.replace('East Jakarta','Jakarta Timur')\n",
    "df['location'] = df['location'].str.replace('Kota Jakarta','Jakarta Pusat')\n",
    "\n",
    "#Replace word Jakarta to Jakarta Pusat in columns Location\n",
    "df.loc[df['location']=='Jakarta','location']='Jakarta Pusat'\n",
    "\n",
    "# Separate data between Date Post job and date deadline Apply Job\n",
    "df['period_posted'] = df['period'].str.split('•').str[0]\n",
    "df['period'] = df['period'].str.split('•').str[1]\n",
    "\n",
    "# Take only number from columns PostedDay\n",
    "df['PostedDay']=df['period_posted'].str.extract('(\\d+)')\n",
    "\n",
    "#Create new columns value_is_NaN to see data NAN base on PostDay Columns\n",
    "df.loc[df['PostedDay'].isnull(),'value_is_NaN'] = 'Yes'\n",
    "\n",
    "#Create new 2 datafame to separate value_is_NaN\n",
    "\n",
    "df1 = df[df['value_is_NaN']!='Yes']\n",
    "df2 = df[df['value_is_NaN']=='Yes']\n",
    "\n",
    "#change type of PostedDay to INT in df1\n",
    "df1['PostedDay'] = df1['PostedDay'].astype('int')\n",
    "\n",
    "#convert month to days in df1\n",
    "df1.loc[df['period_posted'].str.contains(\"months\"),'PostedDay']=df1['PostedDay']*30\n",
    "\n",
    "#converts days to date in df1\n",
    "df1['PostedDate']=pd.to_datetime(dt.datetime.today().strftime('%Y-%m-%d'))\n",
    "df1['PostedDate'] = df1['PostedDate'] - pd.to_timedelta(df1['PostedDay'], unit='D')\n",
    "\n",
    "\n",
    "#convert PostedDate to datetime in df2\n",
    "df2['PostedDate']=pd.to_datetime(dt.datetime.today().strftime('%Y-%m-%d'))\n",
    "\n",
    "#fill na with 30 days (NA data is a month data) in df2\n",
    "df2['PostedDay'].fillna(value=30, inplace=True)\n",
    "df2['PostedDate'] = df2['PostedDate'] - pd.to_timedelta(df2['PostedDay'], unit='D')\n",
    "\n",
    "#merge dataframe from df1 and df2\n",
    "df_merged = pd.concat([df1, df2], ignore_index=True, sort=False)\n",
    "\n",
    "#Create New DataFrame Test for Period (deadline submit application) and do the replace string to get date data\n",
    "test = pd.DataFrame(df['period'].str.replace('Apply before','')+' 2023')\n",
    "\n",
    "#remove blank space in columns Test.Period\n",
    "test = test['period'].str.strip()\n",
    "\n",
    "#create new columns in dataframe df_merge after format to datetime in columns Test.Period\n",
    "df_merged['period apply before']=pd.to_datetime(test,dayfirst=True,format='mixed')\n",
    "\n",
    "#change type dataframe\n",
    "df_merged['location'] = df_merged['location'].astype('category')\n",
    "df_merged['location General'] = df_merged['location General'].astype('category')\n",
    "\n",
    "#save data to csv\n",
    "df_merged.to_csv('capstone_olah_data.csv',index=False)\n"
   ]
  },
  {
   "cell_type": "code",
   "execution_count": 281,
   "metadata": {
    "scrolled": true
   },
   "outputs": [
    {
     "data": {
      "text/plain": [
       "Timestamp('2022-11-16 00:00:00')"
      ]
     },
     "execution_count": 281,
     "metadata": {},
     "output_type": "execute_result"
    }
   ],
   "source": [
    "#cek periode pengambilan data awal\n",
    "df_merged['PostedDate'].min()"
   ]
  },
  {
   "cell_type": "code",
   "execution_count": 282,
   "metadata": {},
   "outputs": [
    {
     "data": {
      "text/plain": [
       "Timestamp('2023-05-13 00:00:00')"
      ]
     },
     "execution_count": 282,
     "metadata": {},
     "output_type": "execute_result"
    }
   ],
   "source": [
    "#cek periode pengambilan data Akhir\n",
    "df_merged['PostedDate'].max()"
   ]
  },
  {
   "cell_type": "code",
   "execution_count": 275,
   "metadata": {
    "scrolled": true
   },
   "outputs": [
    {
     "data": {
      "text/html": [
       "<div>\n",
       "<style scoped>\n",
       "    .dataframe tbody tr th:only-of-type {\n",
       "        vertical-align: middle;\n",
       "    }\n",
       "\n",
       "    .dataframe tbody tr th {\n",
       "        vertical-align: top;\n",
       "    }\n",
       "\n",
       "    .dataframe thead th {\n",
       "        text-align: right;\n",
       "    }\n",
       "</style>\n",
       "<table border=\"1\" class=\"dataframe\">\n",
       "  <thead>\n",
       "    <tr style=\"text-align: right;\">\n",
       "      <th></th>\n",
       "      <th>Job Title</th>\n",
       "    </tr>\n",
       "    <tr>\n",
       "      <th>location</th>\n",
       "      <th></th>\n",
       "    </tr>\n",
       "  </thead>\n",
       "  <tbody>\n",
       "    <tr>\n",
       "      <th>Bandung</th>\n",
       "      <td>0</td>\n",
       "    </tr>\n",
       "    <tr>\n",
       "      <th>Bekasi</th>\n",
       "      <td>0</td>\n",
       "    </tr>\n",
       "    <tr>\n",
       "      <th>Denpasar</th>\n",
       "      <td>0</td>\n",
       "    </tr>\n",
       "    <tr>\n",
       "      <th>Mojokerto</th>\n",
       "      <td>0</td>\n",
       "    </tr>\n",
       "    <tr>\n",
       "      <th>Surabaya</th>\n",
       "      <td>0</td>\n",
       "    </tr>\n",
       "    <tr>\n",
       "      <th>Tangerang</th>\n",
       "      <td>0</td>\n",
       "    </tr>\n",
       "    <tr>\n",
       "      <th>Yogyakarta</th>\n",
       "      <td>0</td>\n",
       "    </tr>\n",
       "    <tr>\n",
       "      <th>Jakarta Timur</th>\n",
       "      <td>7</td>\n",
       "    </tr>\n",
       "    <tr>\n",
       "      <th>Jakarta Barat</th>\n",
       "      <td>12</td>\n",
       "    </tr>\n",
       "    <tr>\n",
       "      <th>Jakarta Utara</th>\n",
       "      <td>12</td>\n",
       "    </tr>\n",
       "    <tr>\n",
       "      <th>Jakarta Pusat</th>\n",
       "      <td>63</td>\n",
       "    </tr>\n",
       "    <tr>\n",
       "      <th>Jakarta Selatan</th>\n",
       "      <td>76</td>\n",
       "    </tr>\n",
       "  </tbody>\n",
       "</table>\n",
       "</div>"
      ],
      "text/plain": [
       "                 Job Title\n",
       "location                  \n",
       "Bandung                  0\n",
       "Bekasi                   0\n",
       "Denpasar                 0\n",
       "Mojokerto                0\n",
       "Surabaya                 0\n",
       "Tangerang                0\n",
       "Yogyakarta               0\n",
       "Jakarta Timur            7\n",
       "Jakarta Barat           12\n",
       "Jakarta Utara           12\n",
       "Jakarta Pusat           63\n",
       "Jakarta Selatan         76"
      ]
     },
     "execution_count": 275,
     "metadata": {},
     "output_type": "execute_result"
    }
   ],
   "source": [
    "#filter data for Jakarta detail location\n",
    "df_merged_jakarta = df_merged[df_merged['location General']=='Jakarta']\n",
    "\n",
    "Job_pivot_table_jakarta = df_merged_jakarta.pivot_table(\n",
    "    index = 'location',\n",
    "    values='Job Title',\n",
    "    aggfunc='count'\n",
    ").sort_values(by='Job Title',ascending=True)\n",
    "Job_pivot_table_jakarta"
   ]
  },
  {
   "cell_type": "code",
   "execution_count": 280,
   "metadata": {},
   "outputs": [
    {
     "data": {
      "text/html": [
       "<div>\n",
       "<style scoped>\n",
       "    .dataframe tbody tr th:only-of-type {\n",
       "        vertical-align: middle;\n",
       "    }\n",
       "\n",
       "    .dataframe tbody tr th {\n",
       "        vertical-align: top;\n",
       "    }\n",
       "\n",
       "    .dataframe thead th {\n",
       "        text-align: right;\n",
       "    }\n",
       "</style>\n",
       "<table border=\"1\" class=\"dataframe\">\n",
       "  <thead>\n",
       "    <tr style=\"text-align: right;\">\n",
       "      <th></th>\n",
       "      <th>location General</th>\n",
       "      <th>Job Title</th>\n",
       "    </tr>\n",
       "  </thead>\n",
       "  <tbody>\n",
       "    <tr>\n",
       "      <th>0</th>\n",
       "      <td>Denpasar</td>\n",
       "      <td>1</td>\n",
       "    </tr>\n",
       "    <tr>\n",
       "      <th>1</th>\n",
       "      <td>Mojokerto</td>\n",
       "      <td>1</td>\n",
       "    </tr>\n",
       "    <tr>\n",
       "      <th>2</th>\n",
       "      <td>Bekasi</td>\n",
       "      <td>2</td>\n",
       "    </tr>\n",
       "    <tr>\n",
       "      <th>3</th>\n",
       "      <td>Yogyakarta</td>\n",
       "      <td>2</td>\n",
       "    </tr>\n",
       "    <tr>\n",
       "      <th>4</th>\n",
       "      <td>Surabaya</td>\n",
       "      <td>3</td>\n",
       "    </tr>\n",
       "    <tr>\n",
       "      <th>5</th>\n",
       "      <td>Bandung</td>\n",
       "      <td>4</td>\n",
       "    </tr>\n",
       "    <tr>\n",
       "      <th>6</th>\n",
       "      <td>Tangerang</td>\n",
       "      <td>27</td>\n",
       "    </tr>\n",
       "    <tr>\n",
       "      <th>7</th>\n",
       "      <td>Jakarta</td>\n",
       "      <td>170</td>\n",
       "    </tr>\n",
       "  </tbody>\n",
       "</table>\n",
       "</div>"
      ],
      "text/plain": [
       "  location General  Job Title\n",
       "0         Denpasar          1\n",
       "1        Mojokerto          1\n",
       "2           Bekasi          2\n",
       "3       Yogyakarta          2\n",
       "4         Surabaya          3\n",
       "5          Bandung          4\n",
       "6        Tangerang         27\n",
       "7          Jakarta        170"
      ]
     },
     "execution_count": 280,
     "metadata": {},
     "output_type": "execute_result"
    }
   ],
   "source": [
    "#data from General location\n",
    "\n",
    "Job_pivot_table=df_merged.pivot_table(\n",
    "    index = 'location General',\n",
    "    values='Job Title',\n",
    "    aggfunc='count'\n",
    ").sort_values(by='Job Title',ascending=True).reset_index()\n",
    "Job_pivot_table"
   ]
  },
  {
   "cell_type": "markdown",
   "metadata": {},
   "source": [
    "### Implementing your webscrapping to the flask dashboard\n",
    "\n",
    "- Copy paste all of your web scrapping process to the desired position on the `app.py`\n",
    "- Changing the title of the dasboard at `index.html`"
   ]
  },
  {
   "cell_type": "markdown",
   "metadata": {},
   "source": [
    "## Finishing This Notebook with Your Analysis and Conclusion\n",
    "\n",
    "First you can do start with making the data visualisation. "
   ]
  },
  {
   "cell_type": "code",
   "execution_count": 278,
   "metadata": {
    "ExecuteTime": {
     "end_time": "2020-01-13T05:20:56.208237Z",
     "start_time": "2020-01-13T05:20:56.076043Z"
    }
   },
   "outputs": [
    {
     "data": {
      "text/plain": [
       "[Text(0, 0, '1'),\n",
       " Text(0, 0, '1'),\n",
       " Text(0, 0, '2'),\n",
       " Text(0, 0, '2'),\n",
       " Text(0, 0, '3'),\n",
       " Text(0, 0, '4'),\n",
       " Text(0, 0, '27'),\n",
       " Text(0, 0, '170')]"
      ]
     },
     "execution_count": 278,
     "metadata": {},
     "output_type": "execute_result"
    },
    {
     "data": {
      "image/png": "[encoded data removed]",
      "text/plain": [
       "<Figure size 1600x1400 with 1 Axes>"
      ]
     },
     "metadata": {},
     "output_type": "display_data"
    }
   ],
   "source": [
    "#data visualisation for general location\n",
    "\n",
    "ax = Job_pivot_table.plot(kind='bar',\n",
    "                    rot=0,\n",
    "                                 title= 'Summarize Job request base on location in indonesia',\n",
    "                                 figsize=(16, 14),\n",
    "                                 ylabel='Count Job Request',\n",
    "                                 xlabel='Location');\n",
    "\n",
    "ax.legend([\"Count\"])\n",
    "ax.bar_label(ax.containers[0])\n"
   ]
  },
  {
   "cell_type": "code",
   "execution_count": 253,
   "metadata": {},
   "outputs": [
    {
     "data": {
      "text/plain": [
       "[Text(0, 0, '6'),\n",
       " Text(0, 0, '14'),\n",
       " Text(0, 0, '17'),\n",
       " Text(0, 0, '66'),\n",
       " Text(0, 0, '71')]"
      ]
     },
     "execution_count": 253,
     "metadata": {},
     "output_type": "execute_result"
    },
    {
     "data": {
      "image/png": "[encoded data removed]",
      "text/plain": [
       "<Figure size 1600x1400 with 1 Axes>"
      ]
     },
     "metadata": {},
     "output_type": "display_data"
    }
   ],
   "source": [
    "#data visualisation for Jakarta\n",
    "\n",
    "ax = Job_pivot_table_jakarta.plot(kind='bar',\n",
    "                    rot=0,\n",
    "                                 title= 'Summarize Job request base on location in Jakata',\n",
    "                                 figsize=(16, 14),\n",
    "                                 ylabel='Count Job Request',\n",
    "                                 xlabel='Location Jakarta');\n",
    "\n",
    "ax.legend([\"Count\"])\n",
    "ax.bar_label(ax.containers[0])\n"
   ]
  },
  {
   "cell_type": "markdown",
   "metadata": {},
   "source": [
    "\n",
    "from the conclusion above that there were **174** job offers in Jakarta and from these 174 data 2 of them were dominant from **South Jakarta with 71 jobs** and **Central Jakarta with 66 jobs**\n",
    "\n",
    "### conclusion\n",
    "Jakarta still become the **most business central disctrict in indonesia**"
   ]
  },
  {
   "cell_type": "markdown",
   "metadata": {},
   "source": [
    "### Implement it at the webapps\n",
    "\n",
    "- You can create additional analysis from the data.\n",
    "- Implement it to the dashboard with at `app.py` dan `index.html`."
   ]
  },
  {
   "cell_type": "code",
   "execution_count": null,
   "metadata": {},
   "outputs": [],
   "source": []
  }
 ],
 "metadata": {
  "kernelspec": {
   "display_name": "vulcan_da_capstone",
   "language": "python",
   "name": "vulcan_da_capstone"
  },
  "language_info": {
   "codemirror_mode": {
    "name": "ipython",
    "version": 3
   },
   "file_extension": ".py",
   "mimetype": "text/x-python",
   "name": "python",
   "nbconvert_exporter": "python",
   "pygments_lexer": "ipython3",
   "version": "3.10.11"
  }
 },
 "nbformat": 4,
 "nbformat_minor": 2
}
